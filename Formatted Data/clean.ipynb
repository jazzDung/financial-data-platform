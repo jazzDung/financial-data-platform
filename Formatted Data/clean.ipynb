{
 "cells": [
  {
   "cell_type": "code",
   "execution_count": 1,
   "metadata": {},
   "outputs": [],
   "source": [
    "import pandas as pd\n",
    "balance = pd.read_csv('/home/vu/Projects/Project3/Formatted Data/Balance Sheet.csv')\n",
    "stock = pd.read_csv('/home/vu/Projects/Project3/Formatted Data/Stock History.csv')\n",
    "income = pd.read_csv('/home/vu/Projects/Project3/Formatted Data/Income Statement.csv')\n",
    "financial = pd.read_csv('/home/vu/Projects/Project3/Formatted Data/Financial Ratio.csv')\n",
    "\n",
    "balance.drop_duplicates(['ticker', 'year', 'quarter'], keep= 'last', inplace=True)\n",
    "stock.drop_duplicates(['ticker', 'timeStamp'], keep= 'last', inplace=True)\n",
    "income.drop_duplicates(['ticker', 'year', 'quarter'], keep= 'last', inplace=True)\n",
    "\n",
    "balance['ticker'] = balance['ticker'].str.upper()\n",
    "income['ticker'] = income['ticker'].str.upper()\n",
    "financial['ticker'] = finanacial['ticker'].str.upper()\n",
    "\n",
    "balance.to_csv('/home/vu/Projects/Project3/Formatted Data/Balance Sheet.csv',index= False)\n",
    "stock.to_csv('/home/vu/Projects/Project3/Formatted Data/Stock History.csv',index= False)\n",
    "income.to_csv('/home/vu/Projects/Project3/Formatted Data/Income Statement.csv',index= False)\n",
    "financial.to_csv('/home/vu/Projects/Project3/Formatted Data/Financial Ratio.csv',index= False)"
   ]
  }
 ],
 "metadata": {
  "kernelspec": {
   "display_name": "Python 3",
   "language": "python",
   "name": "python3"
  },
  "language_info": {
   "codemirror_mode": {
    "name": "ipython",
    "version": 3
   },
   "file_extension": ".py",
   "mimetype": "text/x-python",
   "name": "python",
   "nbconvert_exporter": "python",
   "pygments_lexer": "ipython3",
   "version": "3.10.6"
  },
  "orig_nbformat": 4,
  "vscode": {
   "interpreter": {
    "hash": "916dbcbb3f70747c44a77c7bcd40155683ae19c65e1c03b4aa3499c5328201f1"
   }
  }
 },
 "nbformat": 4,
 "nbformat_minor": 2
}
